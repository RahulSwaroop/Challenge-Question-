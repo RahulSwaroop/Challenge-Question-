{
  "nbformat": 4,
  "nbformat_minor": 0,
  "metadata": {
    "colab": {
      "provenance": [],
      "include_colab_link": true
    },
    "kernelspec": {
      "name": "python3",
      "display_name": "Python 3"
    },
    "language_info": {
      "name": "python"
    }
  },
  "cells": [
    {
      "cell_type": "markdown",
      "metadata": {
        "id": "view-in-github",
        "colab_type": "text"
      },
      "source": [
        "<a href=\"https://colab.research.google.com/github/RahulSwaroop/Challenge-Question-/blob/main/Challenge_Question_D3.ipynb\" target=\"_parent\"><img src=\"https://colab.research.google.com/assets/colab-badge.svg\" alt=\"Open In Colab\"/></a>"
      ]
    },
    {
      "cell_type": "markdown",
      "source": [],
      "metadata": {
        "id": "x3MKLAipJWpI"
      }
    },
    {
      "cell_type": "markdown",
      "source": [
        "#* *CHALLENGE_QUESTION-02*\n",
        "     \n",
        "\n",
        "\n",
        "\n"
      ],
      "metadata": {
        "id": "IY2NxeudI7_j"
      }
    },
    {
      "cell_type": "code",
      "execution_count": null,
      "metadata": {
        "colab": {
          "base_uri": "https://localhost:8080/"
        },
        "id": "6P4dZkCNcQNs",
        "outputId": "15a19dbb-964c-410b-f237-33161c76af7d"
      },
      "outputs": [
        {
          "output_type": "stream",
          "name": "stdout",
          "text": [
            "sorted list: ['Aman', 'Ram', 'Shyam', 1, 2, 3]\n"
          ]
        }
      ],
      "source": [
        "# 1. Write a python program to sort the list of heterogeneous data.\n",
        "# e.g.\n",
        "# L = [\"Ram\", 1, \"Shyam\", 2, \"Aman\", 3]\n",
        "# print(L)\n",
        "# L.sort()\n",
        "# print(L)\n",
        "# # Above code gives error. Correct it\n",
        "L = [\"Ram\", 1, \"Shyam\", 2, \"Aman\", 3]\n",
        "l1 = sorted([x for x in L if isinstance(x, str)])\n",
        "l2 = sorted([x for x in L if isinstance(x, int)])\n",
        "sorted_L=l1+l2\n",
        "print(\"sorted list:\",sorted_L)"
      ]
    }
  ]
}